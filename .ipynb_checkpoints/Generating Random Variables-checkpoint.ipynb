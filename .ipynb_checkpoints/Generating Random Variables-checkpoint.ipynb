{
 "cells": [
  {
   "cell_type": "code",
   "id": "initial_id",
   "metadata": {
    "collapsed": true,
    "ExecuteTime": {
     "end_time": "2024-06-23T12:51:08.398847Z",
     "start_time": "2024-06-23T12:51:08.396744Z"
    }
   },
   "source": "import random",
   "outputs": [],
   "execution_count": 2
  },
  {
   "metadata": {
    "ExecuteTime": {
     "end_time": "2024-06-23T12:51:09.087990Z",
     "start_time": "2024-06-23T12:51:09.085651Z"
    }
   },
   "cell_type": "code",
   "source": [
    "prob = random.random()\n",
    "print(prob)"
   ],
   "id": "9ae9e60d77b79763",
   "outputs": [
    {
     "name": "stdout",
     "output_type": "stream",
     "text": [
      "0.9309161007091121\n"
     ]
    }
   ],
   "execution_count": 3
  },
  {
   "metadata": {
    "ExecuteTime": {
     "end_time": "2024-06-23T12:51:09.833091Z",
     "start_time": "2024-06-23T12:51:09.830792Z"
    }
   },
   "cell_type": "code",
   "source": [
    "number = random.randint(1,6)\n",
    "print(number)"
   ],
   "id": "4beca79573682fdb",
   "outputs": [
    {
     "name": "stdout",
     "output_type": "stream",
     "text": [
      "6\n"
     ]
    }
   ],
   "execution_count": 4
  },
  {
   "metadata": {},
   "cell_type": "code",
   "outputs": [],
   "execution_count": null,
   "source": "mi",
   "id": "ba073262a3b1ca0b"
  }
 ],
 "metadata": {
  "kernelspec": {
   "display_name": "Python 3",
   "language": "python",
   "name": "python3"
  },
  "language_info": {
   "codemirror_mode": {
    "name": "ipython",
    "version": 2
   },
   "file_extension": ".py",
   "mimetype": "text/x-python",
   "name": "python",
   "nbconvert_exporter": "python",
   "pygments_lexer": "ipython2",
   "version": "2.7.6"
  }
 },
 "nbformat": 4,
 "nbformat_minor": 5
}
