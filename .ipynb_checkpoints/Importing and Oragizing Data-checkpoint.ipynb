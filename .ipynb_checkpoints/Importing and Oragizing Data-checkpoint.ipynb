{
 "cells": [
  {
   "cell_type": "code",
   "id": "initial_id",
   "metadata": {
    "collapsed": true,
    "ExecuteTime": {
     "end_time": "2024-06-23T16:49:50.329069Z",
     "start_time": "2024-06-23T16:49:50.246599Z"
    }
   },
   "source": "import numpy as np",
   "outputs": [],
   "execution_count": 1
  },
  {
   "metadata": {
    "ExecuteTime": {
     "end_time": "2024-06-23T16:49:54.031209Z",
     "start_time": "2024-06-23T16:49:53.781288Z"
    }
   },
   "cell_type": "code",
   "source": "import pandas as pd",
   "id": "51fbb0008da53126",
   "outputs": [],
   "execution_count": 2
  },
  {
   "metadata": {
    "ExecuteTime": {
     "end_time": "2024-06-23T16:49:54.378772Z",
     "start_time": "2024-06-23T16:49:54.334535Z"
    }
   },
   "cell_type": "code",
   "source": "from pandas_datareader import data as pdr",
   "id": "625dde6d79f0e86a",
   "outputs": [],
   "execution_count": 3
  },
  {
   "metadata": {
    "ExecuteTime": {
     "end_time": "2024-06-23T16:49:54.744925Z",
     "start_time": "2024-06-23T16:49:54.741321Z"
    }
   },
   "cell_type": "code",
   "source": "from alpha_vantage.timeseries import TimeSeries",
   "id": "d96bf069cdc0f7bf",
   "outputs": [],
   "execution_count": 4
  },
  {
   "metadata": {
    "ExecuteTime": {
     "end_time": "2024-06-23T16:49:55.328161Z",
     "start_time": "2024-06-23T16:49:55.101038Z"
    }
   },
   "cell_type": "code",
   "source": "import matplotlib.pyplot as plt",
   "id": "6bfd56cf21173a12",
   "outputs": [],
   "execution_count": 5
  },
  {
   "metadata": {
    "ExecuteTime": {
     "end_time": "2024-06-23T16:49:55.462170Z",
     "start_time": "2024-06-23T16:49:55.460486Z"
    }
   },
   "cell_type": "code",
   "source": "# Random Variables",
   "id": "813fa1a31e64088d",
   "outputs": [],
   "execution_count": 6
  },
  {
   "metadata": {
    "ExecuteTime": {
     "end_time": "2024-06-23T16:49:55.972366Z",
     "start_time": "2024-06-23T16:49:55.969458Z"
    }
   },
   "cell_type": "code",
   "source": "ser = pd.Series(np.random.random(5), name = \"Column 01\")",
   "id": "461fafd9e0f1c06c",
   "outputs": [],
   "execution_count": 7
  },
  {
   "metadata": {
    "ExecuteTime": {
     "end_time": "2024-06-23T16:49:56.315211Z",
     "start_time": "2024-06-23T16:49:56.311728Z"
    }
   },
   "cell_type": "code",
   "source": "ser\n",
   "id": "1bad82150ccd8b1",
   "outputs": [
    {
     "data": {
      "text/plain": [
       "0    0.856457\n",
       "1    0.069892\n",
       "2    0.361322\n",
       "3    0.853057\n",
       "4    0.840683\n",
       "Name: Column 01, dtype: float64"
      ]
     },
     "execution_count": 8,
     "metadata": {},
     "output_type": "execute_result"
    }
   ],
   "execution_count": 8
  },
  {
   "metadata": {
    "ExecuteTime": {
     "end_time": "2024-06-23T16:49:56.868808Z",
     "start_time": "2024-06-23T16:49:56.866574Z"
    }
   },
   "cell_type": "code",
   "source": "ser[2]",
   "id": "ca9d475b3fab22d0",
   "outputs": [
    {
     "data": {
      "text/plain": [
       "0.36132232183664825"
      ]
     },
     "execution_count": 9,
     "metadata": {},
     "output_type": "execute_result"
    }
   ],
   "execution_count": 9
  },
  {
   "metadata": {
    "ExecuteTime": {
     "end_time": "2024-06-23T16:49:57.279381Z",
     "start_time": "2024-06-23T16:49:57.277050Z"
    }
   },
   "cell_type": "code",
   "source": "# Stocks Data",
   "id": "5a64a0058c8e946e",
   "outputs": [],
   "execution_count": 10
  },
  {
   "metadata": {
    "ExecuteTime": {
     "end_time": "2024-06-23T16:49:58.368485Z",
     "start_time": "2024-06-23T16:49:58.075415Z"
    }
   },
   "cell_type": "code",
   "source": [
    "pg = pdr.DataReader(\"PG\", start=\"2015-01-01\", end=\"2024-06-22\")\n",
    "pg.tail(10)"
   ],
   "id": "651f55baf1797504",
   "outputs": [
    {
     "ename": "NotImplementedError",
     "evalue": "data_source=None is not implemented",
     "output_type": "error",
     "traceback": [
      "\u001B[0;31m---------------------------------------------------------------------------\u001B[0m",
      "\u001B[0;31mNotImplementedError\u001B[0m                       Traceback (most recent call last)",
      "Cell \u001B[0;32mIn[11], line 1\u001B[0m\n\u001B[0;32m----> 1\u001B[0m pg \u001B[38;5;241m=\u001B[39m pdr\u001B[38;5;241m.\u001B[39mDataReader(\u001B[38;5;124m\"\u001B[39m\u001B[38;5;124mPG\u001B[39m\u001B[38;5;124m\"\u001B[39m, start\u001B[38;5;241m=\u001B[39m\u001B[38;5;124m\"\u001B[39m\u001B[38;5;124m2015-01-01\u001B[39m\u001B[38;5;124m\"\u001B[39m, end\u001B[38;5;241m=\u001B[39m\u001B[38;5;124m\"\u001B[39m\u001B[38;5;124m2024-06-22\u001B[39m\u001B[38;5;124m\"\u001B[39m)\n\u001B[1;32m      2\u001B[0m pg\u001B[38;5;241m.\u001B[39mtail(\u001B[38;5;241m10\u001B[39m)\n",
      "File \u001B[0;32m/opt/anaconda3/lib/python3.11/site-packages/pandas/util/_decorators.py:213\u001B[0m, in \u001B[0;36mdeprecate_kwarg.<locals>._deprecate_kwarg.<locals>.wrapper\u001B[0;34m(*args, **kwargs)\u001B[0m\n\u001B[1;32m    211\u001B[0m         \u001B[38;5;28;01mraise\u001B[39;00m \u001B[38;5;167;01mTypeError\u001B[39;00m(msg)\n\u001B[1;32m    212\u001B[0m     kwargs[new_arg_name] \u001B[38;5;241m=\u001B[39m new_arg_value\n\u001B[0;32m--> 213\u001B[0m \u001B[38;5;28;01mreturn\u001B[39;00m func(\u001B[38;5;241m*\u001B[39margs, \u001B[38;5;241m*\u001B[39m\u001B[38;5;241m*\u001B[39mkwargs)\n",
      "File \u001B[0;32m/opt/anaconda3/lib/python3.11/site-packages/pandas_datareader/data.py:367\u001B[0m, in \u001B[0;36mDataReader\u001B[0;34m(name, data_source, start, end, retry_count, pause, session, api_key)\u001B[0m\n\u001B[1;32m    365\u001B[0m \u001B[38;5;28;01mif\u001B[39;00m data_source \u001B[38;5;129;01mnot\u001B[39;00m \u001B[38;5;129;01min\u001B[39;00m expected_source:\n\u001B[1;32m    366\u001B[0m     msg \u001B[38;5;241m=\u001B[39m \u001B[38;5;124m\"\u001B[39m\u001B[38;5;124mdata_source=\u001B[39m\u001B[38;5;132;01m%r\u001B[39;00m\u001B[38;5;124m is not implemented\u001B[39m\u001B[38;5;124m\"\u001B[39m \u001B[38;5;241m%\u001B[39m data_source\n\u001B[0;32m--> 367\u001B[0m     \u001B[38;5;28;01mraise\u001B[39;00m \u001B[38;5;167;01mNotImplementedError\u001B[39;00m(msg)\n\u001B[1;32m    369\u001B[0m \u001B[38;5;28;01mif\u001B[39;00m data_source \u001B[38;5;241m==\u001B[39m \u001B[38;5;124m\"\u001B[39m\u001B[38;5;124myahoo\u001B[39m\u001B[38;5;124m\"\u001B[39m:\n\u001B[1;32m    370\u001B[0m     \u001B[38;5;28;01mreturn\u001B[39;00m YahooDailyReader(\n\u001B[1;32m    371\u001B[0m         symbols\u001B[38;5;241m=\u001B[39mname,\n\u001B[1;32m    372\u001B[0m         start\u001B[38;5;241m=\u001B[39mstart,\n\u001B[0;32m   (...)\u001B[0m\n\u001B[1;32m    378\u001B[0m         session\u001B[38;5;241m=\u001B[39msession,\n\u001B[1;32m    379\u001B[0m     )\u001B[38;5;241m.\u001B[39mread()\n",
      "\u001B[0;31mNotImplementedError\u001B[0m: data_source=None is not implemented"
     ]
    }
   ],
   "execution_count": 11
  },
  {
   "metadata": {
    "ExecuteTime": {
     "end_time": "2024-06-23T16:49:58.553452Z",
     "start_time": "2024-06-23T16:49:58.545190Z"
    }
   },
   "cell_type": "code",
   "source": "pg.info()",
   "id": "da6b2ce533105945",
   "outputs": [
    {
     "ename": "NameError",
     "evalue": "name 'pg' is not defined",
     "output_type": "error",
     "traceback": [
      "\u001B[0;31m---------------------------------------------------------------------------\u001B[0m",
      "\u001B[0;31mNameError\u001B[0m                                 Traceback (most recent call last)",
      "Cell \u001B[0;32mIn[12], line 1\u001B[0m\n\u001B[0;32m----> 1\u001B[0m pg\u001B[38;5;241m.\u001B[39minfo()\n",
      "\u001B[0;31mNameError\u001B[0m: name 'pg' is not defined"
     ]
    }
   ],
   "execution_count": 12
  },
  {
   "metadata": {
    "ExecuteTime": {
     "end_time": "2024-06-23T16:49:59.145543Z",
     "start_time": "2024-06-23T16:49:59.138053Z"
    }
   },
   "cell_type": "code",
   "source": "pg.tail(20)",
   "id": "811dcf823bd9b47b",
   "outputs": [
    {
     "ename": "NameError",
     "evalue": "name 'pg' is not defined",
     "output_type": "error",
     "traceback": [
      "\u001B[0;31m---------------------------------------------------------------------------\u001B[0m",
      "\u001B[0;31mNameError\u001B[0m                                 Traceback (most recent call last)",
      "Cell \u001B[0;32mIn[13], line 1\u001B[0m\n\u001B[0;32m----> 1\u001B[0m pg\u001B[38;5;241m.\u001B[39mtail(\u001B[38;5;241m20\u001B[39m)\n",
      "\u001B[0;31mNameError\u001B[0m: name 'pg' is not defined"
     ]
    }
   ],
   "execution_count": 13
  },
  {
   "metadata": {
    "ExecuteTime": {
     "end_time": "2024-06-23T16:49:59.863768Z",
     "start_time": "2024-06-23T16:49:59.833517Z"
    }
   },
   "cell_type": "code",
   "source": [
    "tickers = [\"NVDA\", \"MSFT\", \"AAPL\", \"PYPL\", \"META\", \"AMZN\", \"GOOGL\", \"TSLA\", \"NFLX\"]\n",
    "new_data = pd.DataFrame()\n",
    "for t in tickers:\n",
    "    new_data[t] = pdr.DataReader(t, start=\"2015-01-01\")[\"Adj Close\"]\n",
    "new_data.tail()"
   ],
   "id": "466e50d6150b8628",
   "outputs": [
    {
     "ename": "NotImplementedError",
     "evalue": "data_source=None is not implemented",
     "output_type": "error",
     "traceback": [
      "\u001B[0;31m---------------------------------------------------------------------------\u001B[0m",
      "\u001B[0;31mNotImplementedError\u001B[0m                       Traceback (most recent call last)",
      "Cell \u001B[0;32mIn[14], line 4\u001B[0m\n\u001B[1;32m      2\u001B[0m new_data \u001B[38;5;241m=\u001B[39m pd\u001B[38;5;241m.\u001B[39mDataFrame()\n\u001B[1;32m      3\u001B[0m \u001B[38;5;28;01mfor\u001B[39;00m t \u001B[38;5;129;01min\u001B[39;00m tickers:\n\u001B[0;32m----> 4\u001B[0m     new_data[t] \u001B[38;5;241m=\u001B[39m pdr\u001B[38;5;241m.\u001B[39mDataReader(t, start\u001B[38;5;241m=\u001B[39m\u001B[38;5;124m\"\u001B[39m\u001B[38;5;124m2015-01-01\u001B[39m\u001B[38;5;124m\"\u001B[39m)[\u001B[38;5;124m\"\u001B[39m\u001B[38;5;124mAdj Close\u001B[39m\u001B[38;5;124m\"\u001B[39m]\n\u001B[1;32m      5\u001B[0m new_data\u001B[38;5;241m.\u001B[39mtail()\n",
      "File \u001B[0;32m/opt/anaconda3/lib/python3.11/site-packages/pandas/util/_decorators.py:213\u001B[0m, in \u001B[0;36mdeprecate_kwarg.<locals>._deprecate_kwarg.<locals>.wrapper\u001B[0;34m(*args, **kwargs)\u001B[0m\n\u001B[1;32m    211\u001B[0m         \u001B[38;5;28;01mraise\u001B[39;00m \u001B[38;5;167;01mTypeError\u001B[39;00m(msg)\n\u001B[1;32m    212\u001B[0m     kwargs[new_arg_name] \u001B[38;5;241m=\u001B[39m new_arg_value\n\u001B[0;32m--> 213\u001B[0m \u001B[38;5;28;01mreturn\u001B[39;00m func(\u001B[38;5;241m*\u001B[39margs, \u001B[38;5;241m*\u001B[39m\u001B[38;5;241m*\u001B[39mkwargs)\n",
      "File \u001B[0;32m/opt/anaconda3/lib/python3.11/site-packages/pandas_datareader/data.py:367\u001B[0m, in \u001B[0;36mDataReader\u001B[0;34m(name, data_source, start, end, retry_count, pause, session, api_key)\u001B[0m\n\u001B[1;32m    365\u001B[0m \u001B[38;5;28;01mif\u001B[39;00m data_source \u001B[38;5;129;01mnot\u001B[39;00m \u001B[38;5;129;01min\u001B[39;00m expected_source:\n\u001B[1;32m    366\u001B[0m     msg \u001B[38;5;241m=\u001B[39m \u001B[38;5;124m\"\u001B[39m\u001B[38;5;124mdata_source=\u001B[39m\u001B[38;5;132;01m%r\u001B[39;00m\u001B[38;5;124m is not implemented\u001B[39m\u001B[38;5;124m\"\u001B[39m \u001B[38;5;241m%\u001B[39m data_source\n\u001B[0;32m--> 367\u001B[0m     \u001B[38;5;28;01mraise\u001B[39;00m \u001B[38;5;167;01mNotImplementedError\u001B[39;00m(msg)\n\u001B[1;32m    369\u001B[0m \u001B[38;5;28;01mif\u001B[39;00m data_source \u001B[38;5;241m==\u001B[39m \u001B[38;5;124m\"\u001B[39m\u001B[38;5;124myahoo\u001B[39m\u001B[38;5;124m\"\u001B[39m:\n\u001B[1;32m    370\u001B[0m     \u001B[38;5;28;01mreturn\u001B[39;00m YahooDailyReader(\n\u001B[1;32m    371\u001B[0m         symbols\u001B[38;5;241m=\u001B[39mname,\n\u001B[1;32m    372\u001B[0m         start\u001B[38;5;241m=\u001B[39mstart,\n\u001B[0;32m   (...)\u001B[0m\n\u001B[1;32m    378\u001B[0m         session\u001B[38;5;241m=\u001B[39msession,\n\u001B[1;32m    379\u001B[0m     )\u001B[38;5;241m.\u001B[39mread()\n",
      "\u001B[0;31mNotImplementedError\u001B[0m: data_source=None is not implemented"
     ]
    }
   ],
   "execution_count": 14
  },
  {
   "metadata": {
    "ExecuteTime": {
     "end_time": "2024-06-23T16:50:00.440983Z",
     "start_time": "2024-06-23T16:50:00.414394Z"
    }
   },
   "cell_type": "code",
   "source": [
    "nvda = pdr.DataReader(\"NVDA\", start=\"2024-01-01\", end=\"2024-06-22\")\n",
    "nvda"
   ],
   "id": "8536d783b07e0054",
   "outputs": [
    {
     "ename": "NotImplementedError",
     "evalue": "data_source=None is not implemented",
     "output_type": "error",
     "traceback": [
      "\u001B[0;31m---------------------------------------------------------------------------\u001B[0m",
      "\u001B[0;31mNotImplementedError\u001B[0m                       Traceback (most recent call last)",
      "Cell \u001B[0;32mIn[15], line 1\u001B[0m\n\u001B[0;32m----> 1\u001B[0m nvda \u001B[38;5;241m=\u001B[39m pdr\u001B[38;5;241m.\u001B[39mDataReader(\u001B[38;5;124m\"\u001B[39m\u001B[38;5;124mNVDA\u001B[39m\u001B[38;5;124m\"\u001B[39m, start\u001B[38;5;241m=\u001B[39m\u001B[38;5;124m\"\u001B[39m\u001B[38;5;124m2024-01-01\u001B[39m\u001B[38;5;124m\"\u001B[39m, end\u001B[38;5;241m=\u001B[39m\u001B[38;5;124m\"\u001B[39m\u001B[38;5;124m2024-06-22\u001B[39m\u001B[38;5;124m\"\u001B[39m)\n\u001B[1;32m      2\u001B[0m nvda\n",
      "File \u001B[0;32m/opt/anaconda3/lib/python3.11/site-packages/pandas/util/_decorators.py:213\u001B[0m, in \u001B[0;36mdeprecate_kwarg.<locals>._deprecate_kwarg.<locals>.wrapper\u001B[0;34m(*args, **kwargs)\u001B[0m\n\u001B[1;32m    211\u001B[0m         \u001B[38;5;28;01mraise\u001B[39;00m \u001B[38;5;167;01mTypeError\u001B[39;00m(msg)\n\u001B[1;32m    212\u001B[0m     kwargs[new_arg_name] \u001B[38;5;241m=\u001B[39m new_arg_value\n\u001B[0;32m--> 213\u001B[0m \u001B[38;5;28;01mreturn\u001B[39;00m func(\u001B[38;5;241m*\u001B[39margs, \u001B[38;5;241m*\u001B[39m\u001B[38;5;241m*\u001B[39mkwargs)\n",
      "File \u001B[0;32m/opt/anaconda3/lib/python3.11/site-packages/pandas_datareader/data.py:367\u001B[0m, in \u001B[0;36mDataReader\u001B[0;34m(name, data_source, start, end, retry_count, pause, session, api_key)\u001B[0m\n\u001B[1;32m    365\u001B[0m \u001B[38;5;28;01mif\u001B[39;00m data_source \u001B[38;5;129;01mnot\u001B[39;00m \u001B[38;5;129;01min\u001B[39;00m expected_source:\n\u001B[1;32m    366\u001B[0m     msg \u001B[38;5;241m=\u001B[39m \u001B[38;5;124m\"\u001B[39m\u001B[38;5;124mdata_source=\u001B[39m\u001B[38;5;132;01m%r\u001B[39;00m\u001B[38;5;124m is not implemented\u001B[39m\u001B[38;5;124m\"\u001B[39m \u001B[38;5;241m%\u001B[39m data_source\n\u001B[0;32m--> 367\u001B[0m     \u001B[38;5;28;01mraise\u001B[39;00m \u001B[38;5;167;01mNotImplementedError\u001B[39;00m(msg)\n\u001B[1;32m    369\u001B[0m \u001B[38;5;28;01mif\u001B[39;00m data_source \u001B[38;5;241m==\u001B[39m \u001B[38;5;124m\"\u001B[39m\u001B[38;5;124myahoo\u001B[39m\u001B[38;5;124m\"\u001B[39m:\n\u001B[1;32m    370\u001B[0m     \u001B[38;5;28;01mreturn\u001B[39;00m YahooDailyReader(\n\u001B[1;32m    371\u001B[0m         symbols\u001B[38;5;241m=\u001B[39mname,\n\u001B[1;32m    372\u001B[0m         start\u001B[38;5;241m=\u001B[39mstart,\n\u001B[0;32m   (...)\u001B[0m\n\u001B[1;32m    378\u001B[0m         session\u001B[38;5;241m=\u001B[39msession,\n\u001B[1;32m    379\u001B[0m     )\u001B[38;5;241m.\u001B[39mread()\n",
      "\u001B[0;31mNotImplementedError\u001B[0m: data_source=None is not implemented"
     ]
    }
   ],
   "execution_count": 15
  },
  {
   "metadata": {},
   "cell_type": "code",
   "outputs": [],
   "execution_count": null,
   "source": "",
   "id": "cc2fe4cba7a6990c"
  }
 ],
 "metadata": {
  "kernelspec": {
   "display_name": "Python 3",
   "language": "python",
   "name": "python3"
  },
  "language_info": {
   "codemirror_mode": {
    "name": "ipython",
    "version": 2
   },
   "file_extension": ".py",
   "mimetype": "text/x-python",
   "name": "python",
   "nbconvert_exporter": "python",
   "pygments_lexer": "ipython2",
   "version": "2.7.6"
  }
 },
 "nbformat": 4,
 "nbformat_minor": 5
}
