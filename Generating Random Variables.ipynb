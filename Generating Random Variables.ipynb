{
 "cells": [
  {
   "cell_type": "code",
   "id": "initial_id",
   "metadata": {
    "collapsed": true,
    "ExecuteTime": {
     "end_time": "2024-06-23T13:09:41.591636Z",
     "start_time": "2024-06-23T13:09:41.589010Z"
    }
   },
   "source": "import random",
   "outputs": [],
   "execution_count": 8
  },
  {
   "metadata": {
    "ExecuteTime": {
     "end_time": "2024-06-23T13:09:42.009693Z",
     "start_time": "2024-06-23T13:09:42.007262Z"
    }
   },
   "cell_type": "code",
   "source": [
    "prob = random.random()\n",
    "print(prob)"
   ],
   "id": "9ae9e60d77b79763",
   "outputs": [
    {
     "name": "stdout",
     "output_type": "stream",
     "text": [
      "0.6769424317094115\n"
     ]
    }
   ],
   "execution_count": 9
  },
  {
   "metadata": {
    "ExecuteTime": {
     "end_time": "2024-06-23T13:09:42.444731Z",
     "start_time": "2024-06-23T13:09:42.441718Z"
    }
   },
   "cell_type": "code",
   "source": [
    "number = random.randint(1,6)\n",
    "print(number)"
   ],
   "id": "4beca79573682fdb",
   "outputs": [
    {
     "name": "stdout",
     "output_type": "stream",
     "text": [
      "6\n"
     ]
    }
   ],
   "execution_count": 10
  },
  {
   "metadata": {
    "ExecuteTime": {
     "end_time": "2024-06-23T13:09:42.886104Z",
     "start_time": "2024-06-23T13:09:42.883618Z"
    }
   },
   "cell_type": "code",
   "source": "import numpy as np",
   "id": "42d0a2145586dfd1",
   "outputs": [],
   "execution_count": 11
  },
  {
   "metadata": {
    "ExecuteTime": {
     "end_time": "2024-06-23T13:09:43.337758Z",
     "start_time": "2024-06-23T13:09:43.334424Z"
    }
   },
   "cell_type": "code",
   "source": "np.random.randint(1,6,(4,6))",
   "id": "d95724815b3073af",
   "outputs": [
    {
     "data": {
      "text/plain": [
       "array([[2, 1, 1, 5, 4, 5],\n",
       "       [5, 5, 5, 1, 1, 4],\n",
       "       [4, 3, 2, 3, 2, 3],\n",
       "       [2, 1, 3, 2, 5, 1]])"
      ]
     },
     "execution_count": 12,
     "metadata": {},
     "output_type": "execute_result"
    }
   ],
   "execution_count": 12
  }
 ],
 "metadata": {
  "kernelspec": {
   "display_name": "Python 3",
   "language": "python",
   "name": "python3"
  },
  "language_info": {
   "codemirror_mode": {
    "name": "ipython",
    "version": 2
   },
   "file_extension": ".py",
   "mimetype": "text/x-python",
   "name": "python",
   "nbconvert_exporter": "python",
   "pygments_lexer": "ipython2",
   "version": "2.7.6"
  }
 },
 "nbformat": 4,
 "nbformat_minor": 5
}
