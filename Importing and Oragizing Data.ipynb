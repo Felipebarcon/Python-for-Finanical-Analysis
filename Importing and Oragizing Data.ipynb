{
 "cells": [
  {
   "cell_type": "code",
   "id": "initial_id",
   "metadata": {
    "collapsed": true,
    "ExecuteTime": {
     "end_time": "2024-06-23T17:04:24.745444Z",
     "start_time": "2024-06-23T17:04:24.598236Z"
    }
   },
   "source": "import numpy as np",
   "outputs": [],
   "execution_count": 1
  },
  {
   "metadata": {
    "ExecuteTime": {
     "end_time": "2024-06-23T17:04:25.813603Z",
     "start_time": "2024-06-23T17:04:25.569563Z"
    }
   },
   "cell_type": "code",
   "source": "import pandas as pd",
   "id": "51fbb0008da53126",
   "outputs": [],
   "execution_count": 2
  },
  {
   "metadata": {
    "ExecuteTime": {
     "end_time": "2024-06-23T17:04:26.759177Z",
     "start_time": "2024-06-23T17:04:26.716645Z"
    }
   },
   "cell_type": "code",
   "source": "from pandas_datareader import data as pdr",
   "id": "625dde6d79f0e86a",
   "outputs": [],
   "execution_count": 3
  },
  {
   "metadata": {
    "ExecuteTime": {
     "end_time": "2024-06-23T17:06:54.136745Z",
     "start_time": "2024-06-23T17:06:54.019024Z"
    }
   },
   "cell_type": "code",
   "source": "import yfinance as yf",
   "id": "b558f6c9ad53eed6",
   "outputs": [],
   "execution_count": 16
  },
  {
   "metadata": {
    "ExecuteTime": {
     "end_time": "2024-06-23T17:05:38.797034Z",
     "start_time": "2024-06-23T17:05:38.795215Z"
    }
   },
   "cell_type": "code",
   "source": "from alpha_vantage.timeseries import TimeSeries",
   "id": "d96bf069cdc0f7bf",
   "outputs": [],
   "execution_count": 15
  },
  {
   "metadata": {
    "ExecuteTime": {
     "end_time": "2024-06-23T17:04:32.458519Z",
     "start_time": "2024-06-23T17:04:32.241276Z"
    }
   },
   "cell_type": "code",
   "source": "import matplotlib.pyplot as plt",
   "id": "6bfd56cf21173a12",
   "outputs": [],
   "execution_count": 5
  },
  {
   "metadata": {
    "ExecuteTime": {
     "end_time": "2024-06-23T17:08:09.124527Z",
     "start_time": "2024-06-23T17:08:09.122659Z"
    }
   },
   "cell_type": "code",
   "source": "yf.pdr_override()",
   "id": "31c487a4a4667dae",
   "outputs": [
    {
     "name": "stdout",
     "output_type": "stream",
     "text": [
      "yfinance: pandas_datareader support is deprecated & semi-broken so will be removed in a future verison. Just use yfinance.\n"
     ]
    }
   ],
   "execution_count": 18
  },
  {
   "metadata": {
    "ExecuteTime": {
     "end_time": "2024-06-23T17:04:33.265235Z",
     "start_time": "2024-06-23T17:04:33.263450Z"
    }
   },
   "cell_type": "code",
   "source": "# Random Variables",
   "id": "813fa1a31e64088d",
   "outputs": [],
   "execution_count": 6
  },
  {
   "metadata": {
    "ExecuteTime": {
     "end_time": "2024-06-23T17:04:33.662718Z",
     "start_time": "2024-06-23T17:04:33.660527Z"
    }
   },
   "cell_type": "code",
   "source": "ser = pd.Series(np.random.random(5), name = \"Column 01\")",
   "id": "461fafd9e0f1c06c",
   "outputs": [],
   "execution_count": 7
  },
  {
   "metadata": {
    "ExecuteTime": {
     "end_time": "2024-06-23T17:04:35.035703Z",
     "start_time": "2024-06-23T17:04:35.031486Z"
    }
   },
   "cell_type": "code",
   "source": "ser\n",
   "id": "1bad82150ccd8b1",
   "outputs": [
    {
     "data": {
      "text/plain": [
       "0    0.606857\n",
       "1    0.329458\n",
       "2    0.907570\n",
       "3    0.407705\n",
       "4    0.798320\n",
       "Name: Column 01, dtype: float64"
      ]
     },
     "execution_count": 8,
     "metadata": {},
     "output_type": "execute_result"
    }
   ],
   "execution_count": 8
  },
  {
   "metadata": {
    "ExecuteTime": {
     "end_time": "2024-06-23T17:04:36.692377Z",
     "start_time": "2024-06-23T17:04:36.689681Z"
    }
   },
   "cell_type": "code",
   "source": "ser[2]",
   "id": "ca9d475b3fab22d0",
   "outputs": [
    {
     "data": {
      "text/plain": [
       "0.9075700034886875"
      ]
     },
     "execution_count": 9,
     "metadata": {},
     "output_type": "execute_result"
    }
   ],
   "execution_count": 9
  },
  {
   "metadata": {
    "ExecuteTime": {
     "end_time": "2024-06-23T17:04:38.694756Z",
     "start_time": "2024-06-23T17:04:38.692930Z"
    }
   },
   "cell_type": "code",
   "source": "# Stocks Data",
   "id": "5a64a0058c8e946e",
   "outputs": [],
   "execution_count": 10
  },
  {
   "metadata": {
    "ExecuteTime": {
     "end_time": "2024-06-23T17:08:52.970166Z",
     "start_time": "2024-06-23T17:08:51.703711Z"
    }
   },
   "cell_type": "code",
   "source": [
    "pg = pdr.get_data_yahoo(\"PG\", start = \"2015-1-1\", end = \"2022-12-3\")\n",
    "pg"
   ],
   "id": "651f55baf1797504",
   "outputs": [
    {
     "name": "stderr",
     "output_type": "stream",
     "text": [
      "[*********************100%%**********************]  1 of 1 completed\n"
     ]
    },
    {
     "data": {
      "text/plain": [
       "                  Open        High         Low       Close   Adj Close  \\\n",
       "Date                                                                     \n",
       "2015-01-02   90.839996   91.000000   89.919998   90.440002   69.090240   \n",
       "2015-01-05   90.230003   91.000000   89.849998   90.010002   68.761742   \n",
       "2015-01-06   90.309998   90.559998   89.260002   89.599998   68.448540   \n",
       "2015-01-07   89.940002   90.370003   89.559998   90.070000   68.807571   \n",
       "2015-01-08   90.480003   91.230003   90.129997   91.099998   69.594452   \n",
       "...                ...         ...         ...         ...         ...   \n",
       "2022-11-28  146.389999  147.339996  146.139999  146.600006  141.161758   \n",
       "2022-11-29  145.750000  146.059998  144.529999  145.479996  140.083282   \n",
       "2022-11-30  145.649994  149.160004  145.130005  149.160004  143.626785   \n",
       "2022-12-01  149.529999  150.360001  148.570007  149.250000  143.713455   \n",
       "2022-12-02  148.470001  150.770004  148.080002  150.610001  145.023010   \n",
       "\n",
       "              Volume  \n",
       "Date                  \n",
       "2015-01-02   7251400  \n",
       "2015-01-05   8626100  \n",
       "2015-01-06   7791200  \n",
       "2015-01-07   5986600  \n",
       "2015-01-08   6823300  \n",
       "...              ...  \n",
       "2022-11-28   6628200  \n",
       "2022-11-29   5634200  \n",
       "2022-11-30  12396800  \n",
       "2022-12-01   6927400  \n",
       "2022-12-02   4938300  \n",
       "\n",
       "[1995 rows x 6 columns]"
      ],
      "text/html": [
       "<div>\n",
       "<style scoped>\n",
       "    .dataframe tbody tr th:only-of-type {\n",
       "        vertical-align: middle;\n",
       "    }\n",
       "\n",
       "    .dataframe tbody tr th {\n",
       "        vertical-align: top;\n",
       "    }\n",
       "\n",
       "    .dataframe thead th {\n",
       "        text-align: right;\n",
       "    }\n",
       "</style>\n",
       "<table border=\"1\" class=\"dataframe\">\n",
       "  <thead>\n",
       "    <tr style=\"text-align: right;\">\n",
       "      <th></th>\n",
       "      <th>Open</th>\n",
       "      <th>High</th>\n",
       "      <th>Low</th>\n",
       "      <th>Close</th>\n",
       "      <th>Adj Close</th>\n",
       "      <th>Volume</th>\n",
       "    </tr>\n",
       "    <tr>\n",
       "      <th>Date</th>\n",
       "      <th></th>\n",
       "      <th></th>\n",
       "      <th></th>\n",
       "      <th></th>\n",
       "      <th></th>\n",
       "      <th></th>\n",
       "    </tr>\n",
       "  </thead>\n",
       "  <tbody>\n",
       "    <tr>\n",
       "      <th>2015-01-02</th>\n",
       "      <td>90.839996</td>\n",
       "      <td>91.000000</td>\n",
       "      <td>89.919998</td>\n",
       "      <td>90.440002</td>\n",
       "      <td>69.090240</td>\n",
       "      <td>7251400</td>\n",
       "    </tr>\n",
       "    <tr>\n",
       "      <th>2015-01-05</th>\n",
       "      <td>90.230003</td>\n",
       "      <td>91.000000</td>\n",
       "      <td>89.849998</td>\n",
       "      <td>90.010002</td>\n",
       "      <td>68.761742</td>\n",
       "      <td>8626100</td>\n",
       "    </tr>\n",
       "    <tr>\n",
       "      <th>2015-01-06</th>\n",
       "      <td>90.309998</td>\n",
       "      <td>90.559998</td>\n",
       "      <td>89.260002</td>\n",
       "      <td>89.599998</td>\n",
       "      <td>68.448540</td>\n",
       "      <td>7791200</td>\n",
       "    </tr>\n",
       "    <tr>\n",
       "      <th>2015-01-07</th>\n",
       "      <td>89.940002</td>\n",
       "      <td>90.370003</td>\n",
       "      <td>89.559998</td>\n",
       "      <td>90.070000</td>\n",
       "      <td>68.807571</td>\n",
       "      <td>5986600</td>\n",
       "    </tr>\n",
       "    <tr>\n",
       "      <th>2015-01-08</th>\n",
       "      <td>90.480003</td>\n",
       "      <td>91.230003</td>\n",
       "      <td>90.129997</td>\n",
       "      <td>91.099998</td>\n",
       "      <td>69.594452</td>\n",
       "      <td>6823300</td>\n",
       "    </tr>\n",
       "    <tr>\n",
       "      <th>...</th>\n",
       "      <td>...</td>\n",
       "      <td>...</td>\n",
       "      <td>...</td>\n",
       "      <td>...</td>\n",
       "      <td>...</td>\n",
       "      <td>...</td>\n",
       "    </tr>\n",
       "    <tr>\n",
       "      <th>2022-11-28</th>\n",
       "      <td>146.389999</td>\n",
       "      <td>147.339996</td>\n",
       "      <td>146.139999</td>\n",
       "      <td>146.600006</td>\n",
       "      <td>141.161758</td>\n",
       "      <td>6628200</td>\n",
       "    </tr>\n",
       "    <tr>\n",
       "      <th>2022-11-29</th>\n",
       "      <td>145.750000</td>\n",
       "      <td>146.059998</td>\n",
       "      <td>144.529999</td>\n",
       "      <td>145.479996</td>\n",
       "      <td>140.083282</td>\n",
       "      <td>5634200</td>\n",
       "    </tr>\n",
       "    <tr>\n",
       "      <th>2022-11-30</th>\n",
       "      <td>145.649994</td>\n",
       "      <td>149.160004</td>\n",
       "      <td>145.130005</td>\n",
       "      <td>149.160004</td>\n",
       "      <td>143.626785</td>\n",
       "      <td>12396800</td>\n",
       "    </tr>\n",
       "    <tr>\n",
       "      <th>2022-12-01</th>\n",
       "      <td>149.529999</td>\n",
       "      <td>150.360001</td>\n",
       "      <td>148.570007</td>\n",
       "      <td>149.250000</td>\n",
       "      <td>143.713455</td>\n",
       "      <td>6927400</td>\n",
       "    </tr>\n",
       "    <tr>\n",
       "      <th>2022-12-02</th>\n",
       "      <td>148.470001</td>\n",
       "      <td>150.770004</td>\n",
       "      <td>148.080002</td>\n",
       "      <td>150.610001</td>\n",
       "      <td>145.023010</td>\n",
       "      <td>4938300</td>\n",
       "    </tr>\n",
       "  </tbody>\n",
       "</table>\n",
       "<p>1995 rows × 6 columns</p>\n",
       "</div>"
      ]
     },
     "execution_count": 19,
     "metadata": {},
     "output_type": "execute_result"
    }
   ],
   "execution_count": 19
  },
  {
   "metadata": {
    "ExecuteTime": {
     "end_time": "2024-06-23T17:09:00.818819Z",
     "start_time": "2024-06-23T17:09:00.813384Z"
    }
   },
   "cell_type": "code",
   "source": "pg.info()",
   "id": "da6b2ce533105945",
   "outputs": [
    {
     "name": "stdout",
     "output_type": "stream",
     "text": [
      "<class 'pandas.core.frame.DataFrame'>\n",
      "DatetimeIndex: 1995 entries, 2015-01-02 to 2022-12-02\n",
      "Data columns (total 6 columns):\n",
      " #   Column     Non-Null Count  Dtype  \n",
      "---  ------     --------------  -----  \n",
      " 0   Open       1995 non-null   float64\n",
      " 1   High       1995 non-null   float64\n",
      " 2   Low        1995 non-null   float64\n",
      " 3   Close      1995 non-null   float64\n",
      " 4   Adj Close  1995 non-null   float64\n",
      " 5   Volume     1995 non-null   int64  \n",
      "dtypes: float64(5), int64(1)\n",
      "memory usage: 109.1 KB\n"
     ]
    }
   ],
   "execution_count": 20
  },
  {
   "metadata": {
    "ExecuteTime": {
     "end_time": "2024-06-23T17:00:11.454402Z",
     "start_time": "2024-06-23T17:00:11.444976Z"
    }
   },
   "cell_type": "code",
   "source": "pg.tail(20)",
   "id": "811dcf823bd9b47b",
   "outputs": [
    {
     "ename": "NameError",
     "evalue": "name 'pg' is not defined",
     "output_type": "error",
     "traceback": [
      "\u001B[0;31m---------------------------------------------------------------------------\u001B[0m",
      "\u001B[0;31mNameError\u001B[0m                                 Traceback (most recent call last)",
      "Cell \u001B[0;32mIn[53], line 1\u001B[0m\n\u001B[0;32m----> 1\u001B[0m pg\u001B[38;5;241m.\u001B[39mtail(\u001B[38;5;241m20\u001B[39m)\n",
      "\u001B[0;31mNameError\u001B[0m: name 'pg' is not defined"
     ]
    }
   ],
   "execution_count": 53
  },
  {
   "metadata": {
    "ExecuteTime": {
     "end_time": "2024-06-23T17:09:06.588022Z",
     "start_time": "2024-06-23T17:09:05.040381Z"
    }
   },
   "cell_type": "code",
   "source": [
    "tickers = [\"NVDA\", \"MSFT\", \"AAPL\", \"PYPL\", \"META\", \"AMZN\", \"GOOGL\", \"TSLA\", \"NFLX\"]\n",
    "new_data = pd.DataFrame()\n",
    "for t in tickers:\n",
    "    new_data[t] = pdr.DataReader(t, start=\"2015-01-01\")[\"Adj Close\"]\n",
    "new_data.tail()"
   ],
   "id": "466e50d6150b8628",
   "outputs": [
    {
     "name": "stderr",
     "output_type": "stream",
     "text": [
      "[*********************100%%**********************]  1 of 1 completed\n",
      "[*********************100%%**********************]  1 of 1 completed\n",
      "[*********************100%%**********************]  1 of 1 completed\n",
      "[*********************100%%**********************]  1 of 1 completed\n",
      "[*********************100%%**********************]  1 of 1 completed\n",
      "[*********************100%%**********************]  1 of 1 completed\n",
      "[*********************100%%**********************]  1 of 1 completed\n",
      "[*********************100%%**********************]  1 of 1 completed\n",
      "[*********************100%%**********************]  1 of 1 completed\n"
     ]
    },
    {
     "data": {
      "text/plain": [
       "                  NVDA        MSFT        AAPL       PYPL        META  \\\n",
       "Date                                                                    \n",
       "2024-06-14  131.880005  442.570007  212.490005  60.634998  504.160004   \n",
       "2024-06-17  130.979996  448.369995  216.669998  60.130001  506.630005   \n",
       "2024-06-18  135.580002  446.339996  214.289993  59.119999  499.489990   \n",
       "2024-06-20  130.779999  445.700012  209.679993  59.799999  501.700012   \n",
       "2024-06-21  126.570000  449.779999  207.490005  60.610001  494.779999   \n",
       "\n",
       "                  AMZN       GOOGL        TSLA        NFLX  \n",
       "Date                                                        \n",
       "2024-06-14  183.660004  176.789993  178.009995  669.380005  \n",
       "2024-06-17  184.059998  177.240005  187.440002  675.830017  \n",
       "2024-06-18  182.809998  175.089996  184.860001  685.669983  \n",
       "2024-06-20  186.100006  176.300003  181.570007  679.030029  \n",
       "2024-06-21  189.080002  179.630005  183.009995  686.119995  "
      ],
      "text/html": [
       "<div>\n",
       "<style scoped>\n",
       "    .dataframe tbody tr th:only-of-type {\n",
       "        vertical-align: middle;\n",
       "    }\n",
       "\n",
       "    .dataframe tbody tr th {\n",
       "        vertical-align: top;\n",
       "    }\n",
       "\n",
       "    .dataframe thead th {\n",
       "        text-align: right;\n",
       "    }\n",
       "</style>\n",
       "<table border=\"1\" class=\"dataframe\">\n",
       "  <thead>\n",
       "    <tr style=\"text-align: right;\">\n",
       "      <th></th>\n",
       "      <th>NVDA</th>\n",
       "      <th>MSFT</th>\n",
       "      <th>AAPL</th>\n",
       "      <th>PYPL</th>\n",
       "      <th>META</th>\n",
       "      <th>AMZN</th>\n",
       "      <th>GOOGL</th>\n",
       "      <th>TSLA</th>\n",
       "      <th>NFLX</th>\n",
       "    </tr>\n",
       "    <tr>\n",
       "      <th>Date</th>\n",
       "      <th></th>\n",
       "      <th></th>\n",
       "      <th></th>\n",
       "      <th></th>\n",
       "      <th></th>\n",
       "      <th></th>\n",
       "      <th></th>\n",
       "      <th></th>\n",
       "      <th></th>\n",
       "    </tr>\n",
       "  </thead>\n",
       "  <tbody>\n",
       "    <tr>\n",
       "      <th>2024-06-14</th>\n",
       "      <td>131.880005</td>\n",
       "      <td>442.570007</td>\n",
       "      <td>212.490005</td>\n",
       "      <td>60.634998</td>\n",
       "      <td>504.160004</td>\n",
       "      <td>183.660004</td>\n",
       "      <td>176.789993</td>\n",
       "      <td>178.009995</td>\n",
       "      <td>669.380005</td>\n",
       "    </tr>\n",
       "    <tr>\n",
       "      <th>2024-06-17</th>\n",
       "      <td>130.979996</td>\n",
       "      <td>448.369995</td>\n",
       "      <td>216.669998</td>\n",
       "      <td>60.130001</td>\n",
       "      <td>506.630005</td>\n",
       "      <td>184.059998</td>\n",
       "      <td>177.240005</td>\n",
       "      <td>187.440002</td>\n",
       "      <td>675.830017</td>\n",
       "    </tr>\n",
       "    <tr>\n",
       "      <th>2024-06-18</th>\n",
       "      <td>135.580002</td>\n",
       "      <td>446.339996</td>\n",
       "      <td>214.289993</td>\n",
       "      <td>59.119999</td>\n",
       "      <td>499.489990</td>\n",
       "      <td>182.809998</td>\n",
       "      <td>175.089996</td>\n",
       "      <td>184.860001</td>\n",
       "      <td>685.669983</td>\n",
       "    </tr>\n",
       "    <tr>\n",
       "      <th>2024-06-20</th>\n",
       "      <td>130.779999</td>\n",
       "      <td>445.700012</td>\n",
       "      <td>209.679993</td>\n",
       "      <td>59.799999</td>\n",
       "      <td>501.700012</td>\n",
       "      <td>186.100006</td>\n",
       "      <td>176.300003</td>\n",
       "      <td>181.570007</td>\n",
       "      <td>679.030029</td>\n",
       "    </tr>\n",
       "    <tr>\n",
       "      <th>2024-06-21</th>\n",
       "      <td>126.570000</td>\n",
       "      <td>449.779999</td>\n",
       "      <td>207.490005</td>\n",
       "      <td>60.610001</td>\n",
       "      <td>494.779999</td>\n",
       "      <td>189.080002</td>\n",
       "      <td>179.630005</td>\n",
       "      <td>183.009995</td>\n",
       "      <td>686.119995</td>\n",
       "    </tr>\n",
       "  </tbody>\n",
       "</table>\n",
       "</div>"
      ]
     },
     "execution_count": 21,
     "metadata": {},
     "output_type": "execute_result"
    }
   ],
   "execution_count": 21
  },
  {
   "metadata": {
    "ExecuteTime": {
     "end_time": "2024-06-23T17:09:09.246703Z",
     "start_time": "2024-06-23T17:09:09.127740Z"
    }
   },
   "cell_type": "code",
   "source": [
    "nvda = pdr.DataReader(\"NVDA\", start=\"2024-01-01\", end=\"2024-06-22\")\n",
    "nvda"
   ],
   "id": "8536d783b07e0054",
   "outputs": [
    {
     "name": "stderr",
     "output_type": "stream",
     "text": [
      "[*********************100%%**********************]  1 of 1 completed\n"
     ]
    },
    {
     "data": {
      "text/plain": [
       "                  Open        High         Low       Close   Adj Close  \\\n",
       "Date                                                                     \n",
       "2024-01-02   49.243999   49.294998   47.595001   48.167999   48.161785   \n",
       "2024-01-03   47.485001   48.183998   47.320000   47.569000   47.562862   \n",
       "2024-01-04   47.766998   48.500000   47.507999   47.998001   47.991810   \n",
       "2024-01-05   48.462002   49.547001   48.306000   49.097000   49.090664   \n",
       "2024-01-08   49.512001   52.275002   49.479000   52.252998   52.246254   \n",
       "...                ...         ...         ...         ...         ...   \n",
       "2024-06-14  129.960007  132.839996  128.320007  131.880005  131.880005   \n",
       "2024-06-17  132.990005  133.729996  129.580002  130.979996  130.979996   \n",
       "2024-06-18  131.139999  136.330002  130.690002  135.580002  135.580002   \n",
       "2024-06-20  139.800003  140.759995  129.520004  130.779999  130.779999   \n",
       "2024-06-21  127.120003  130.630005  124.300003  126.570000  126.570000   \n",
       "\n",
       "               Volume  \n",
       "Date                   \n",
       "2024-01-02  411254000  \n",
       "2024-01-03  320896000  \n",
       "2024-01-04  306535000  \n",
       "2024-01-05  415039000  \n",
       "2024-01-08  642510000  \n",
       "...               ...  \n",
       "2024-06-14  309320400  \n",
       "2024-06-17  288504400  \n",
       "2024-06-18  294335100  \n",
       "2024-06-20  517768400  \n",
       "2024-06-21  649445800  \n",
       "\n",
       "[119 rows x 6 columns]"
      ],
      "text/html": [
       "<div>\n",
       "<style scoped>\n",
       "    .dataframe tbody tr th:only-of-type {\n",
       "        vertical-align: middle;\n",
       "    }\n",
       "\n",
       "    .dataframe tbody tr th {\n",
       "        vertical-align: top;\n",
       "    }\n",
       "\n",
       "    .dataframe thead th {\n",
       "        text-align: right;\n",
       "    }\n",
       "</style>\n",
       "<table border=\"1\" class=\"dataframe\">\n",
       "  <thead>\n",
       "    <tr style=\"text-align: right;\">\n",
       "      <th></th>\n",
       "      <th>Open</th>\n",
       "      <th>High</th>\n",
       "      <th>Low</th>\n",
       "      <th>Close</th>\n",
       "      <th>Adj Close</th>\n",
       "      <th>Volume</th>\n",
       "    </tr>\n",
       "    <tr>\n",
       "      <th>Date</th>\n",
       "      <th></th>\n",
       "      <th></th>\n",
       "      <th></th>\n",
       "      <th></th>\n",
       "      <th></th>\n",
       "      <th></th>\n",
       "    </tr>\n",
       "  </thead>\n",
       "  <tbody>\n",
       "    <tr>\n",
       "      <th>2024-01-02</th>\n",
       "      <td>49.243999</td>\n",
       "      <td>49.294998</td>\n",
       "      <td>47.595001</td>\n",
       "      <td>48.167999</td>\n",
       "      <td>48.161785</td>\n",
       "      <td>411254000</td>\n",
       "    </tr>\n",
       "    <tr>\n",
       "      <th>2024-01-03</th>\n",
       "      <td>47.485001</td>\n",
       "      <td>48.183998</td>\n",
       "      <td>47.320000</td>\n",
       "      <td>47.569000</td>\n",
       "      <td>47.562862</td>\n",
       "      <td>320896000</td>\n",
       "    </tr>\n",
       "    <tr>\n",
       "      <th>2024-01-04</th>\n",
       "      <td>47.766998</td>\n",
       "      <td>48.500000</td>\n",
       "      <td>47.507999</td>\n",
       "      <td>47.998001</td>\n",
       "      <td>47.991810</td>\n",
       "      <td>306535000</td>\n",
       "    </tr>\n",
       "    <tr>\n",
       "      <th>2024-01-05</th>\n",
       "      <td>48.462002</td>\n",
       "      <td>49.547001</td>\n",
       "      <td>48.306000</td>\n",
       "      <td>49.097000</td>\n",
       "      <td>49.090664</td>\n",
       "      <td>415039000</td>\n",
       "    </tr>\n",
       "    <tr>\n",
       "      <th>2024-01-08</th>\n",
       "      <td>49.512001</td>\n",
       "      <td>52.275002</td>\n",
       "      <td>49.479000</td>\n",
       "      <td>52.252998</td>\n",
       "      <td>52.246254</td>\n",
       "      <td>642510000</td>\n",
       "    </tr>\n",
       "    <tr>\n",
       "      <th>...</th>\n",
       "      <td>...</td>\n",
       "      <td>...</td>\n",
       "      <td>...</td>\n",
       "      <td>...</td>\n",
       "      <td>...</td>\n",
       "      <td>...</td>\n",
       "    </tr>\n",
       "    <tr>\n",
       "      <th>2024-06-14</th>\n",
       "      <td>129.960007</td>\n",
       "      <td>132.839996</td>\n",
       "      <td>128.320007</td>\n",
       "      <td>131.880005</td>\n",
       "      <td>131.880005</td>\n",
       "      <td>309320400</td>\n",
       "    </tr>\n",
       "    <tr>\n",
       "      <th>2024-06-17</th>\n",
       "      <td>132.990005</td>\n",
       "      <td>133.729996</td>\n",
       "      <td>129.580002</td>\n",
       "      <td>130.979996</td>\n",
       "      <td>130.979996</td>\n",
       "      <td>288504400</td>\n",
       "    </tr>\n",
       "    <tr>\n",
       "      <th>2024-06-18</th>\n",
       "      <td>131.139999</td>\n",
       "      <td>136.330002</td>\n",
       "      <td>130.690002</td>\n",
       "      <td>135.580002</td>\n",
       "      <td>135.580002</td>\n",
       "      <td>294335100</td>\n",
       "    </tr>\n",
       "    <tr>\n",
       "      <th>2024-06-20</th>\n",
       "      <td>139.800003</td>\n",
       "      <td>140.759995</td>\n",
       "      <td>129.520004</td>\n",
       "      <td>130.779999</td>\n",
       "      <td>130.779999</td>\n",
       "      <td>517768400</td>\n",
       "    </tr>\n",
       "    <tr>\n",
       "      <th>2024-06-21</th>\n",
       "      <td>127.120003</td>\n",
       "      <td>130.630005</td>\n",
       "      <td>124.300003</td>\n",
       "      <td>126.570000</td>\n",
       "      <td>126.570000</td>\n",
       "      <td>649445800</td>\n",
       "    </tr>\n",
       "  </tbody>\n",
       "</table>\n",
       "<p>119 rows × 6 columns</p>\n",
       "</div>"
      ]
     },
     "execution_count": 22,
     "metadata": {},
     "output_type": "execute_result"
    }
   ],
   "execution_count": 22
  },
  {
   "metadata": {},
   "cell_type": "code",
   "outputs": [],
   "execution_count": null,
   "source": "",
   "id": "cc2fe4cba7a6990c"
  }
 ],
 "metadata": {
  "kernelspec": {
   "display_name": "Python 3",
   "language": "python",
   "name": "python3"
  },
  "language_info": {
   "codemirror_mode": {
    "name": "ipython",
    "version": 2
   },
   "file_extension": ".py",
   "mimetype": "text/x-python",
   "name": "python",
   "nbconvert_exporter": "python",
   "pygments_lexer": "ipython2",
   "version": "2.7.6"
  }
 },
 "nbformat": 4,
 "nbformat_minor": 5
}
