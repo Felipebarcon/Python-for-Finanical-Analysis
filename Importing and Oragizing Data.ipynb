{
 "cells": [
  {
   "cell_type": "code",
   "id": "initial_id",
   "metadata": {
    "collapsed": true,
    "ExecuteTime": {
     "end_time": "2024-06-23T14:38:45.169626Z",
     "start_time": "2024-06-23T14:38:45.167101Z"
    }
   },
   "source": "import numpy as np",
   "outputs": [],
   "execution_count": 58
  },
  {
   "metadata": {
    "ExecuteTime": {
     "end_time": "2024-06-23T14:38:45.684063Z",
     "start_time": "2024-06-23T14:38:45.681619Z"
    }
   },
   "cell_type": "code",
   "source": "import pandas as pd",
   "id": "51fbb0008da53126",
   "outputs": [],
   "execution_count": 59
  },
  {
   "metadata": {
    "ExecuteTime": {
     "end_time": "2024-06-23T14:38:46.115150Z",
     "start_time": "2024-06-23T14:38:46.113238Z"
    }
   },
   "cell_type": "code",
   "source": "from pandas_datareader import data as pdr",
   "id": "625dde6d79f0e86a",
   "outputs": [],
   "execution_count": 60
  },
  {
   "metadata": {
    "ExecuteTime": {
     "end_time": "2024-06-23T14:38:46.574693Z",
     "start_time": "2024-06-23T14:38:46.572595Z"
    }
   },
   "cell_type": "code",
   "source": "import matplotlib.pyplot as plt",
   "id": "6bfd56cf21173a12",
   "outputs": [],
   "execution_count": 61
  },
  {
   "metadata": {
    "ExecuteTime": {
     "end_time": "2024-06-23T14:38:47.192758Z",
     "start_time": "2024-06-23T14:38:47.189898Z"
    }
   },
   "cell_type": "code",
   "source": "ser = pd.Series(np.random.random(5), name = \"Column 01\")",
   "id": "461fafd9e0f1c06c",
   "outputs": [],
   "execution_count": 62
  },
  {
   "metadata": {
    "ExecuteTime": {
     "end_time": "2024-06-23T14:38:47.953476Z",
     "start_time": "2024-06-23T14:38:47.949693Z"
    }
   },
   "cell_type": "code",
   "source": "ser\n",
   "id": "1bad82150ccd8b1",
   "outputs": [
    {
     "data": {
      "text/plain": [
       "0    0.159054\n",
       "1    0.003055\n",
       "2    0.711288\n",
       "3    0.751629\n",
       "4    0.248782\n",
       "Name: Column 01, dtype: float64"
      ]
     },
     "execution_count": 63,
     "metadata": {},
     "output_type": "execute_result"
    }
   ],
   "execution_count": 63
  },
  {
   "metadata": {
    "ExecuteTime": {
     "end_time": "2024-06-23T14:38:49.303373Z",
     "start_time": "2024-06-23T14:38:49.300872Z"
    }
   },
   "cell_type": "code",
   "source": "ser[2]",
   "id": "ca9d475b3fab22d0",
   "outputs": [
    {
     "data": {
      "text/plain": [
       "0.7112882398749321"
      ]
     },
     "execution_count": 64,
     "metadata": {},
     "output_type": "execute_result"
    }
   ],
   "execution_count": 64
  },
  {
   "metadata": {
    "ExecuteTime": {
     "end_time": "2024-06-23T14:40:15.151489Z",
     "start_time": "2024-06-23T14:40:15.121743Z"
    }
   },
   "cell_type": "code",
   "source": [
    "df = pdr.DataReader(\"PG\", start=\"2015-01-01\", end=\"2024-01-01\")\n",
    "df"
   ],
   "id": "651f55baf1797504",
   "outputs": [
    {
     "name": "stderr",
     "output_type": "stream",
     "text": [
      "[*********************100%%**********************]  1 of 1 completed\n"
     ]
    },
    {
     "data": {
      "text/plain": [
       "                  Open        High         Low       Close   Adj Close  \\\n",
       "Date                                                                     \n",
       "2015-01-02   90.839996   91.000000   89.919998   90.440002   69.090240   \n",
       "2015-01-05   90.230003   91.000000   89.849998   90.010002   68.761757   \n",
       "2015-01-06   90.309998   90.559998   89.260002   89.599998   68.448555   \n",
       "2015-01-07   89.940002   90.370003   89.559998   90.070000   68.807564   \n",
       "2015-01-08   90.480003   91.230003   90.129997   91.099998   69.594452   \n",
       "...                ...         ...         ...         ...         ...   \n",
       "2023-12-22  144.500000  145.630005  144.289993  145.279999  143.442032   \n",
       "2023-12-26  145.089996  146.169998  144.970001  145.940002  144.093674   \n",
       "2023-12-27  145.649994  146.309998  145.360001  146.059998  144.212158   \n",
       "2023-12-28  146.000000  146.009995  145.039993  145.729996  143.886337   \n",
       "2023-12-29  146.000000  146.960007  145.729996  146.539993  144.686081   \n",
       "\n",
       "             Volume  \n",
       "Date                 \n",
       "2015-01-02  7251400  \n",
       "2015-01-05  8626100  \n",
       "2015-01-06  7791200  \n",
       "2015-01-07  5986600  \n",
       "2015-01-08  6823300  \n",
       "...             ...  \n",
       "2023-12-22  4412800  \n",
       "2023-12-26  3634900  \n",
       "2023-12-27  4569400  \n",
       "2023-12-28  5023000  \n",
       "2023-12-29  5300900  \n",
       "\n",
       "[2264 rows x 6 columns]"
      ],
      "text/html": [
       "<div>\n",
       "<style scoped>\n",
       "    .dataframe tbody tr th:only-of-type {\n",
       "        vertical-align: middle;\n",
       "    }\n",
       "\n",
       "    .dataframe tbody tr th {\n",
       "        vertical-align: top;\n",
       "    }\n",
       "\n",
       "    .dataframe thead th {\n",
       "        text-align: right;\n",
       "    }\n",
       "</style>\n",
       "<table border=\"1\" class=\"dataframe\">\n",
       "  <thead>\n",
       "    <tr style=\"text-align: right;\">\n",
       "      <th></th>\n",
       "      <th>Open</th>\n",
       "      <th>High</th>\n",
       "      <th>Low</th>\n",
       "      <th>Close</th>\n",
       "      <th>Adj Close</th>\n",
       "      <th>Volume</th>\n",
       "    </tr>\n",
       "    <tr>\n",
       "      <th>Date</th>\n",
       "      <th></th>\n",
       "      <th></th>\n",
       "      <th></th>\n",
       "      <th></th>\n",
       "      <th></th>\n",
       "      <th></th>\n",
       "    </tr>\n",
       "  </thead>\n",
       "  <tbody>\n",
       "    <tr>\n",
       "      <th>2015-01-02</th>\n",
       "      <td>90.839996</td>\n",
       "      <td>91.000000</td>\n",
       "      <td>89.919998</td>\n",
       "      <td>90.440002</td>\n",
       "      <td>69.090240</td>\n",
       "      <td>7251400</td>\n",
       "    </tr>\n",
       "    <tr>\n",
       "      <th>2015-01-05</th>\n",
       "      <td>90.230003</td>\n",
       "      <td>91.000000</td>\n",
       "      <td>89.849998</td>\n",
       "      <td>90.010002</td>\n",
       "      <td>68.761757</td>\n",
       "      <td>8626100</td>\n",
       "    </tr>\n",
       "    <tr>\n",
       "      <th>2015-01-06</th>\n",
       "      <td>90.309998</td>\n",
       "      <td>90.559998</td>\n",
       "      <td>89.260002</td>\n",
       "      <td>89.599998</td>\n",
       "      <td>68.448555</td>\n",
       "      <td>7791200</td>\n",
       "    </tr>\n",
       "    <tr>\n",
       "      <th>2015-01-07</th>\n",
       "      <td>89.940002</td>\n",
       "      <td>90.370003</td>\n",
       "      <td>89.559998</td>\n",
       "      <td>90.070000</td>\n",
       "      <td>68.807564</td>\n",
       "      <td>5986600</td>\n",
       "    </tr>\n",
       "    <tr>\n",
       "      <th>2015-01-08</th>\n",
       "      <td>90.480003</td>\n",
       "      <td>91.230003</td>\n",
       "      <td>90.129997</td>\n",
       "      <td>91.099998</td>\n",
       "      <td>69.594452</td>\n",
       "      <td>6823300</td>\n",
       "    </tr>\n",
       "    <tr>\n",
       "      <th>...</th>\n",
       "      <td>...</td>\n",
       "      <td>...</td>\n",
       "      <td>...</td>\n",
       "      <td>...</td>\n",
       "      <td>...</td>\n",
       "      <td>...</td>\n",
       "    </tr>\n",
       "    <tr>\n",
       "      <th>2023-12-22</th>\n",
       "      <td>144.500000</td>\n",
       "      <td>145.630005</td>\n",
       "      <td>144.289993</td>\n",
       "      <td>145.279999</td>\n",
       "      <td>143.442032</td>\n",
       "      <td>4412800</td>\n",
       "    </tr>\n",
       "    <tr>\n",
       "      <th>2023-12-26</th>\n",
       "      <td>145.089996</td>\n",
       "      <td>146.169998</td>\n",
       "      <td>144.970001</td>\n",
       "      <td>145.940002</td>\n",
       "      <td>144.093674</td>\n",
       "      <td>3634900</td>\n",
       "    </tr>\n",
       "    <tr>\n",
       "      <th>2023-12-27</th>\n",
       "      <td>145.649994</td>\n",
       "      <td>146.309998</td>\n",
       "      <td>145.360001</td>\n",
       "      <td>146.059998</td>\n",
       "      <td>144.212158</td>\n",
       "      <td>4569400</td>\n",
       "    </tr>\n",
       "    <tr>\n",
       "      <th>2023-12-28</th>\n",
       "      <td>146.000000</td>\n",
       "      <td>146.009995</td>\n",
       "      <td>145.039993</td>\n",
       "      <td>145.729996</td>\n",
       "      <td>143.886337</td>\n",
       "      <td>5023000</td>\n",
       "    </tr>\n",
       "    <tr>\n",
       "      <th>2023-12-29</th>\n",
       "      <td>146.000000</td>\n",
       "      <td>146.960007</td>\n",
       "      <td>145.729996</td>\n",
       "      <td>146.539993</td>\n",
       "      <td>144.686081</td>\n",
       "      <td>5300900</td>\n",
       "    </tr>\n",
       "  </tbody>\n",
       "</table>\n",
       "<p>2264 rows × 6 columns</p>\n",
       "</div>"
      ]
     },
     "execution_count": 69,
     "metadata": {},
     "output_type": "execute_result"
    }
   ],
   "execution_count": 69
  },
  {
   "metadata": {
    "ExecuteTime": {
     "end_time": "2024-06-23T14:43:25.845730Z",
     "start_time": "2024-06-23T14:43:25.374114Z"
    }
   },
   "cell_type": "code",
   "source": [
    "apple = pdr.DataReader(\"AAPL\", start=\"2020-01-01\", end=\"2024-06-20\")\n",
    "apple"
   ],
   "id": "d84a28eb246f13e3",
   "outputs": [
    {
     "name": "stderr",
     "output_type": "stream",
     "text": [
      "[*********************100%%**********************]  1 of 1 completed\n"
     ]
    },
    {
     "data": {
      "text/plain": [
       "                  Open        High         Low       Close   Adj Close  \\\n",
       "Date                                                                     \n",
       "2020-01-02   74.059998   75.150002   73.797501   75.087502   72.960449   \n",
       "2020-01-03   74.287498   75.144997   74.125000   74.357498   72.251144   \n",
       "2020-01-06   73.447502   74.989998   73.187500   74.949997   72.826851   \n",
       "2020-01-07   74.959999   75.224998   74.370003   74.597504   72.484367   \n",
       "2020-01-08   74.290001   76.110001   74.290001   75.797501   73.650345   \n",
       "...                ...         ...         ...         ...         ...   \n",
       "2024-06-12  207.369995  220.199997  206.899994  213.070007  213.070007   \n",
       "2024-06-13  214.740005  216.750000  211.600006  214.240005  214.240005   \n",
       "2024-06-14  213.850006  215.169998  211.300003  212.490005  212.490005   \n",
       "2024-06-17  213.369995  218.949997  212.720001  216.669998  216.669998   \n",
       "2024-06-18  217.589996  218.630005  213.000000  214.289993  214.289993   \n",
       "\n",
       "               Volume  \n",
       "Date                   \n",
       "2020-01-02  135480400  \n",
       "2020-01-03  146322800  \n",
       "2020-01-06  118387200  \n",
       "2020-01-07  108872000  \n",
       "2020-01-08  132079200  \n",
       "...               ...  \n",
       "2024-06-12  198134300  \n",
       "2024-06-13   97862700  \n",
       "2024-06-14   70122700  \n",
       "2024-06-17   93728300  \n",
       "2024-06-18   79943300  \n",
       "\n",
       "[1123 rows x 6 columns]"
      ],
      "text/html": [
       "<div>\n",
       "<style scoped>\n",
       "    .dataframe tbody tr th:only-of-type {\n",
       "        vertical-align: middle;\n",
       "    }\n",
       "\n",
       "    .dataframe tbody tr th {\n",
       "        vertical-align: top;\n",
       "    }\n",
       "\n",
       "    .dataframe thead th {\n",
       "        text-align: right;\n",
       "    }\n",
       "</style>\n",
       "<table border=\"1\" class=\"dataframe\">\n",
       "  <thead>\n",
       "    <tr style=\"text-align: right;\">\n",
       "      <th></th>\n",
       "      <th>Open</th>\n",
       "      <th>High</th>\n",
       "      <th>Low</th>\n",
       "      <th>Close</th>\n",
       "      <th>Adj Close</th>\n",
       "      <th>Volume</th>\n",
       "    </tr>\n",
       "    <tr>\n",
       "      <th>Date</th>\n",
       "      <th></th>\n",
       "      <th></th>\n",
       "      <th></th>\n",
       "      <th></th>\n",
       "      <th></th>\n",
       "      <th></th>\n",
       "    </tr>\n",
       "  </thead>\n",
       "  <tbody>\n",
       "    <tr>\n",
       "      <th>2020-01-02</th>\n",
       "      <td>74.059998</td>\n",
       "      <td>75.150002</td>\n",
       "      <td>73.797501</td>\n",
       "      <td>75.087502</td>\n",
       "      <td>72.960449</td>\n",
       "      <td>135480400</td>\n",
       "    </tr>\n",
       "    <tr>\n",
       "      <th>2020-01-03</th>\n",
       "      <td>74.287498</td>\n",
       "      <td>75.144997</td>\n",
       "      <td>74.125000</td>\n",
       "      <td>74.357498</td>\n",
       "      <td>72.251144</td>\n",
       "      <td>146322800</td>\n",
       "    </tr>\n",
       "    <tr>\n",
       "      <th>2020-01-06</th>\n",
       "      <td>73.447502</td>\n",
       "      <td>74.989998</td>\n",
       "      <td>73.187500</td>\n",
       "      <td>74.949997</td>\n",
       "      <td>72.826851</td>\n",
       "      <td>118387200</td>\n",
       "    </tr>\n",
       "    <tr>\n",
       "      <th>2020-01-07</th>\n",
       "      <td>74.959999</td>\n",
       "      <td>75.224998</td>\n",
       "      <td>74.370003</td>\n",
       "      <td>74.597504</td>\n",
       "      <td>72.484367</td>\n",
       "      <td>108872000</td>\n",
       "    </tr>\n",
       "    <tr>\n",
       "      <th>2020-01-08</th>\n",
       "      <td>74.290001</td>\n",
       "      <td>76.110001</td>\n",
       "      <td>74.290001</td>\n",
       "      <td>75.797501</td>\n",
       "      <td>73.650345</td>\n",
       "      <td>132079200</td>\n",
       "    </tr>\n",
       "    <tr>\n",
       "      <th>...</th>\n",
       "      <td>...</td>\n",
       "      <td>...</td>\n",
       "      <td>...</td>\n",
       "      <td>...</td>\n",
       "      <td>...</td>\n",
       "      <td>...</td>\n",
       "    </tr>\n",
       "    <tr>\n",
       "      <th>2024-06-12</th>\n",
       "      <td>207.369995</td>\n",
       "      <td>220.199997</td>\n",
       "      <td>206.899994</td>\n",
       "      <td>213.070007</td>\n",
       "      <td>213.070007</td>\n",
       "      <td>198134300</td>\n",
       "    </tr>\n",
       "    <tr>\n",
       "      <th>2024-06-13</th>\n",
       "      <td>214.740005</td>\n",
       "      <td>216.750000</td>\n",
       "      <td>211.600006</td>\n",
       "      <td>214.240005</td>\n",
       "      <td>214.240005</td>\n",
       "      <td>97862700</td>\n",
       "    </tr>\n",
       "    <tr>\n",
       "      <th>2024-06-14</th>\n",
       "      <td>213.850006</td>\n",
       "      <td>215.169998</td>\n",
       "      <td>211.300003</td>\n",
       "      <td>212.490005</td>\n",
       "      <td>212.490005</td>\n",
       "      <td>70122700</td>\n",
       "    </tr>\n",
       "    <tr>\n",
       "      <th>2024-06-17</th>\n",
       "      <td>213.369995</td>\n",
       "      <td>218.949997</td>\n",
       "      <td>212.720001</td>\n",
       "      <td>216.669998</td>\n",
       "      <td>216.669998</td>\n",
       "      <td>93728300</td>\n",
       "    </tr>\n",
       "    <tr>\n",
       "      <th>2024-06-18</th>\n",
       "      <td>217.589996</td>\n",
       "      <td>218.630005</td>\n",
       "      <td>213.000000</td>\n",
       "      <td>214.289993</td>\n",
       "      <td>214.289993</td>\n",
       "      <td>79943300</td>\n",
       "    </tr>\n",
       "  </tbody>\n",
       "</table>\n",
       "<p>1123 rows × 6 columns</p>\n",
       "</div>"
      ]
     },
     "execution_count": 76,
     "metadata": {},
     "output_type": "execute_result"
    }
   ],
   "execution_count": 76
  },
  {
   "metadata": {},
   "cell_type": "code",
   "outputs": [],
   "execution_count": null,
   "source": "",
   "id": "1023f12641d4ecc2"
  }
 ],
 "metadata": {
  "kernelspec": {
   "display_name": "Python 3",
   "language": "python",
   "name": "python3"
  },
  "language_info": {
   "codemirror_mode": {
    "name": "ipython",
    "version": 2
   },
   "file_extension": ".py",
   "mimetype": "text/x-python",
   "name": "python",
   "nbconvert_exporter": "python",
   "pygments_lexer": "ipython2",
   "version": "2.7.6"
  }
 },
 "nbformat": 4,
 "nbformat_minor": 5
}
