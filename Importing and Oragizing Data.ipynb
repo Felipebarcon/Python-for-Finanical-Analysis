{
 "cells": [
  {
   "cell_type": "code",
   "id": "initial_id",
   "metadata": {
    "collapsed": true,
    "ExecuteTime": {
     "end_time": "2024-06-23T14:38:45.169626Z",
     "start_time": "2024-06-23T14:38:45.167101Z"
    }
   },
   "source": "import numpy as np",
   "outputs": [],
   "execution_count": 58
  },
  {
   "metadata": {
    "ExecuteTime": {
     "end_time": "2024-06-23T14:38:45.684063Z",
     "start_time": "2024-06-23T14:38:45.681619Z"
    }
   },
   "cell_type": "code",
   "source": "import pandas as pd",
   "id": "51fbb0008da53126",
   "outputs": [],
   "execution_count": 59
  },
  {
   "metadata": {
    "ExecuteTime": {
     "end_time": "2024-06-23T14:38:46.115150Z",
     "start_time": "2024-06-23T14:38:46.113238Z"
    }
   },
   "cell_type": "code",
   "source": "from pandas_datareader import data as pdr",
   "id": "625dde6d79f0e86a",
   "outputs": [],
   "execution_count": 60
  },
  {
   "metadata": {
    "ExecuteTime": {
     "end_time": "2024-06-23T14:38:46.574693Z",
     "start_time": "2024-06-23T14:38:46.572595Z"
    }
   },
   "cell_type": "code",
   "source": "import matplotlib.pyplot as plt",
   "id": "6bfd56cf21173a12",
   "outputs": [],
   "execution_count": 61
  },
  {
   "metadata": {
    "ExecuteTime": {
     "end_time": "2024-06-23T14:38:47.192758Z",
     "start_time": "2024-06-23T14:38:47.189898Z"
    }
   },
   "cell_type": "code",
   "source": "ser = pd.Series(np.random.random(5), name = \"Column 01\")",
   "id": "461fafd9e0f1c06c",
   "outputs": [],
   "execution_count": 62
  },
  {
   "metadata": {
    "ExecuteTime": {
     "end_time": "2024-06-23T14:38:47.953476Z",
     "start_time": "2024-06-23T14:38:47.949693Z"
    }
   },
   "cell_type": "code",
   "source": "ser\n",
   "id": "1bad82150ccd8b1",
   "outputs": [
    {
     "data": {
      "text/plain": [
       "0    0.159054\n",
       "1    0.003055\n",
       "2    0.711288\n",
       "3    0.751629\n",
       "4    0.248782\n",
       "Name: Column 01, dtype: float64"
      ]
     },
     "execution_count": 63,
     "metadata": {},
     "output_type": "execute_result"
    }
   ],
   "execution_count": 63
  },
  {
   "metadata": {
    "ExecuteTime": {
     "end_time": "2024-06-23T14:38:49.303373Z",
     "start_time": "2024-06-23T14:38:49.300872Z"
    }
   },
   "cell_type": "code",
   "source": "ser[2]",
   "id": "ca9d475b3fab22d0",
   "outputs": [
    {
     "data": {
      "text/plain": [
       "0.7112882398749321"
      ]
     },
     "execution_count": 64,
     "metadata": {},
     "output_type": "execute_result"
    }
   ],
   "execution_count": 64
  },
  {
   "metadata": {
    "ExecuteTime": {
     "end_time": "2024-06-23T14:40:15.151489Z",
     "start_time": "2024-06-23T14:40:15.121743Z"
    }
   },
   "cell_type": "code",
   "source": [
    "df = pdr.DataReader(\"PG\", start=\"2015-01-01\", end=\"2024-01-01\")\n",
    "df"
   ],
   "id": "651f55baf1797504",
   "outputs": [
    {
     "name": "stderr",
     "output_type": "stream",
     "text": [
      "[*********************100%%**********************]  1 of 1 completed\n"
     ]
    },
    {
     "data": {
      "text/plain": [
       "                  Open        High         Low       Close   Adj Close  \\\n",
       "Date                                                                     \n",
       "2015-01-02   90.839996   91.000000   89.919998   90.440002   69.090240   \n",
       "2015-01-05   90.230003   91.000000   89.849998   90.010002   68.761757   \n",
       "2015-01-06   90.309998   90.559998   89.260002   89.599998   68.448555   \n",
       "2015-01-07   89.940002   90.370003   89.559998   90.070000   68.807564   \n",
       "2015-01-08   90.480003   91.230003   90.129997   91.099998   69.594452   \n",
       "...                ...         ...         ...         ...         ...   \n",
       "2023-12-22  144.500000  145.630005  144.289993  145.279999  143.442032   \n",
       "2023-12-26  145.089996  146.169998  144.970001  145.940002  144.093674   \n",
       "2023-12-27  145.649994  146.309998  145.360001  146.059998  144.212158   \n",
       "2023-12-28  146.000000  146.009995  145.039993  145.729996  143.886337   \n",
       "2023-12-29  146.000000  146.960007  145.729996  146.539993  144.686081   \n",
       "\n",
       "             Volume  \n",
       "Date                 \n",
       "2015-01-02  7251400  \n",
       "2015-01-05  8626100  \n",
       "2015-01-06  7791200  \n",
       "2015-01-07  5986600  \n",
       "2015-01-08  6823300  \n",
       "...             ...  \n",
       "2023-12-22  4412800  \n",
       "2023-12-26  3634900  \n",
       "2023-12-27  4569400  \n",
       "2023-12-28  5023000  \n",
       "2023-12-29  5300900  \n",
       "\n",
       "[2264 rows x 6 columns]"
      ],
      "text/html": [
       "<div>\n",
       "<style scoped>\n",
       "    .dataframe tbody tr th:only-of-type {\n",
       "        vertical-align: middle;\n",
       "    }\n",
       "\n",
       "    .dataframe tbody tr th {\n",
       "        vertical-align: top;\n",
       "    }\n",
       "\n",
       "    .dataframe thead th {\n",
       "        text-align: right;\n",
       "    }\n",
       "</style>\n",
       "<table border=\"1\" class=\"dataframe\">\n",
       "  <thead>\n",
       "    <tr style=\"text-align: right;\">\n",
       "      <th></th>\n",
       "      <th>Open</th>\n",
       "      <th>High</th>\n",
       "      <th>Low</th>\n",
       "      <th>Close</th>\n",
       "      <th>Adj Close</th>\n",
       "      <th>Volume</th>\n",
       "    </tr>\n",
       "    <tr>\n",
       "      <th>Date</th>\n",
       "      <th></th>\n",
       "      <th></th>\n",
       "      <th></th>\n",
       "      <th></th>\n",
       "      <th></th>\n",
       "      <th></th>\n",
       "    </tr>\n",
       "  </thead>\n",
       "  <tbody>\n",
       "    <tr>\n",
       "      <th>2015-01-02</th>\n",
       "      <td>90.839996</td>\n",
       "      <td>91.000000</td>\n",
       "      <td>89.919998</td>\n",
       "      <td>90.440002</td>\n",
       "      <td>69.090240</td>\n",
       "      <td>7251400</td>\n",
       "    </tr>\n",
       "    <tr>\n",
       "      <th>2015-01-05</th>\n",
       "      <td>90.230003</td>\n",
       "      <td>91.000000</td>\n",
       "      <td>89.849998</td>\n",
       "      <td>90.010002</td>\n",
       "      <td>68.761757</td>\n",
       "      <td>8626100</td>\n",
       "    </tr>\n",
       "    <tr>\n",
       "      <th>2015-01-06</th>\n",
       "      <td>90.309998</td>\n",
       "      <td>90.559998</td>\n",
       "      <td>89.260002</td>\n",
       "      <td>89.599998</td>\n",
       "      <td>68.448555</td>\n",
       "      <td>7791200</td>\n",
       "    </tr>\n",
       "    <tr>\n",
       "      <th>2015-01-07</th>\n",
       "      <td>89.940002</td>\n",
       "      <td>90.370003</td>\n",
       "      <td>89.559998</td>\n",
       "      <td>90.070000</td>\n",
       "      <td>68.807564</td>\n",
       "      <td>5986600</td>\n",
       "    </tr>\n",
       "    <tr>\n",
       "      <th>2015-01-08</th>\n",
       "      <td>90.480003</td>\n",
       "      <td>91.230003</td>\n",
       "      <td>90.129997</td>\n",
       "      <td>91.099998</td>\n",
       "      <td>69.594452</td>\n",
       "      <td>6823300</td>\n",
       "    </tr>\n",
       "    <tr>\n",
       "      <th>...</th>\n",
       "      <td>...</td>\n",
       "      <td>...</td>\n",
       "      <td>...</td>\n",
       "      <td>...</td>\n",
       "      <td>...</td>\n",
       "      <td>...</td>\n",
       "    </tr>\n",
       "    <tr>\n",
       "      <th>2023-12-22</th>\n",
       "      <td>144.500000</td>\n",
       "      <td>145.630005</td>\n",
       "      <td>144.289993</td>\n",
       "      <td>145.279999</td>\n",
       "      <td>143.442032</td>\n",
       "      <td>4412800</td>\n",
       "    </tr>\n",
       "    <tr>\n",
       "      <th>2023-12-26</th>\n",
       "      <td>145.089996</td>\n",
       "      <td>146.169998</td>\n",
       "      <td>144.970001</td>\n",
       "      <td>145.940002</td>\n",
       "      <td>144.093674</td>\n",
       "      <td>3634900</td>\n",
       "    </tr>\n",
       "    <tr>\n",
       "      <th>2023-12-27</th>\n",
       "      <td>145.649994</td>\n",
       "      <td>146.309998</td>\n",
       "      <td>145.360001</td>\n",
       "      <td>146.059998</td>\n",
       "      <td>144.212158</td>\n",
       "      <td>4569400</td>\n",
       "    </tr>\n",
       "    <tr>\n",
       "      <th>2023-12-28</th>\n",
       "      <td>146.000000</td>\n",
       "      <td>146.009995</td>\n",
       "      <td>145.039993</td>\n",
       "      <td>145.729996</td>\n",
       "      <td>143.886337</td>\n",
       "      <td>5023000</td>\n",
       "    </tr>\n",
       "    <tr>\n",
       "      <th>2023-12-29</th>\n",
       "      <td>146.000000</td>\n",
       "      <td>146.960007</td>\n",
       "      <td>145.729996</td>\n",
       "      <td>146.539993</td>\n",
       "      <td>144.686081</td>\n",
       "      <td>5300900</td>\n",
       "    </tr>\n",
       "  </tbody>\n",
       "</table>\n",
       "<p>2264 rows × 6 columns</p>\n",
       "</div>"
      ]
     },
     "execution_count": 69,
     "metadata": {},
     "output_type": "execute_result"
    }
   ],
   "execution_count": 69
  },
  {
   "metadata": {},
   "cell_type": "code",
   "outputs": [],
   "execution_count": null,
   "source": "",
   "id": "d84a28eb246f13e3"
  }
 ],
 "metadata": {
  "kernelspec": {
   "display_name": "Python 3",
   "language": "python",
   "name": "python3"
  },
  "language_info": {
   "codemirror_mode": {
    "name": "ipython",
    "version": 2
   },
   "file_extension": ".py",
   "mimetype": "text/x-python",
   "name": "python",
   "nbconvert_exporter": "python",
   "pygments_lexer": "ipython2",
   "version": "2.7.6"
  }
 },
 "nbformat": 4,
 "nbformat_minor": 5
}
